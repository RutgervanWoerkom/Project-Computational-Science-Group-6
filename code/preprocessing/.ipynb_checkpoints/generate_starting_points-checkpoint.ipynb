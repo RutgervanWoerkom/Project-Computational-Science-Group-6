{
 "cells": [
  {
   "cell_type": "code",
   "execution_count": null,
   "metadata": {},
   "outputs": [],
   "source": [
    "from helpfiles import *\n",
    "import numpy as np\n",
    "import matplotlib.pyplot as plt"
   ]
  },
  {
   "cell_type": "code",
   "execution_count": null,
   "metadata": {},
   "outputs": [],
   "source": [
    "val = np.load('../../datasets/processed/validation_fire.npy')"
   ]
  },
  {
   "cell_type": "code",
   "execution_count": null,
   "metadata": {},
   "outputs": [],
   "source": [
    "for day in val:\n",
    "    plt.imshow(np.flip(day,0))\n",
    "    plt.show()\n",
    "#     clear_output(wait=True)"
   ]
  },
  {
   "cell_type": "code",
   "execution_count": null,
   "metadata": {},
   "outputs": [],
   "source": [
    "empty_day = np.zeros(np.shape(val[0])) \n",
    "y_len, x_len = np.shape(empty_day)\n",
    "starting_points = []\n",
    "prev_day = empty_day.copy()\n",
    "ran = 35\n",
    "\n",
    "for i in range(92):\n",
    "    print(f\"Day: {i}\")\n",
    "    val_day = np.flip(val[i],0)\n",
    "    starting_points_day = []\n",
    "    for y in range(y_len):\n",
    "        for x in range(x_len):\n",
    "            if val_day[y,x] == 2:\n",
    "                if not (2 in prev_day[y-ran:y+ran+1, x-ran:x+ran+1]):\n",
    "                    starting_points_day.append([x,y])\n",
    "\n",
    "    starting_points.append(starting_points_day)\n",
    "    prev_day = val_day\n",
    "    clear_output(wait=True)"
   ]
  },
  {
   "cell_type": "code",
   "execution_count": null,
   "metadata": {},
   "outputs": [],
   "source": [
    "width = 1279\n",
    "height = 1023\n",
    "\n",
    "for i in range(92):\n",
    "    zer = np.zeros((1023,1279))\n",
    "    \n",
    "    for point in starting_points[i]:\n",
    "        zer[point[1], point[0]] = 1\n",
    "\n",
    "    plt.imshow(zer[int(.4*height):int(.72*width),int(.8*height):width])\n",
    "    plt.show()\n",
    "    clear_output(wait=True)"
   ]
  },
  {
   "cell_type": "code",
   "execution_count": null,
   "metadata": {},
   "outputs": [],
   "source": [
    "np.save('../../datasets/processed/starting_points.npy', np.array(starting_points))"
   ]
  },
  {
   "cell_type": "code",
   "execution_count": null,
   "metadata": {},
   "outputs": [],
   "source": [
    "starting_points = np.load('../../datasets/processed/starting_points.npy', allow_pickle=True)"
   ]
  }
 ],
 "metadata": {
  "kernelspec": {
   "display_name": "Python 3",
   "language": "python",
   "name": "python3"
  },
  "language_info": {
   "codemirror_mode": {
    "name": "ipython",
    "version": 3
   },
   "file_extension": ".py",
   "mimetype": "text/x-python",
   "name": "python",
   "nbconvert_exporter": "python",
   "pygments_lexer": "ipython3",
   "version": "3.7.3"
  }
 },
 "nbformat": 4,
 "nbformat_minor": 2
}
