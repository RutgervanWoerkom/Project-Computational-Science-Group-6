{
 "cells": [
  {
   "cell_type": "code",
   "execution_count": null,
   "metadata": {},
   "outputs": [],
   "source": [
    "import cv2\n",
    "import random\n",
    "import numpy as np\n",
    "import matplotlib.pyplot as plt\n",
    "import os\n",
    "import pandas as pd\n",
    "\n",
    "from helpfiles import *\n",
    "from IPython.display import clear_output\n",
    "from matplotlib.pyplot import figure"
   ]
  },
  {
   "cell_type": "code",
   "execution_count": null,
   "metadata": {},
   "outputs": [],
   "source": [
    "data = np.genfromtxt(\"../../datasets/raw/veg/vegetation.grid\", skip_header=6, skip_footer=18)    \n",
    "rain = np.genfromtxt(\"../../datasets/raw/rain/2019123120191231.grid\", skip_header=6, skip_footer=18)\n",
    "temp = np.genfromtxt(\"../../datasets/raw/temp/2019103120191031.grid\", skip_header=6, skip_footer=18)\n",
    "fire = pd.read_csv(\"../../datasets/raw/fire/fire_nrt_V1_95405.csv\")\n",
    "\n",
    "rain_directories = sorted(os.listdir(\"../../datasets/raw/rain/\"))\n",
    "temp_directories = sorted(os.listdir(\"../../datasets/raw/temp/\"))"
   ]
  },
  {
   "cell_type": "code",
   "execution_count": null,
   "metadata": {},
   "outputs": [],
   "source": [
    "def get_data(folder, name):\n",
    "    return np.genfromtxt(folder + name, skip_header=6, skip_footer=18)\n",
    "\n",
    "def show_date(string):\n",
    "    return f'{string[6:8]}-{string[4:6]}-{string[0:4]}'"
   ]
  },
  {
   "cell_type": "code",
   "execution_count": null,
   "metadata": {},
   "outputs": [],
   "source": [
    "def animate_temperature(dim_x, dim_y, mask=False):\n",
    "    \"\"\"\n",
    "    \"\"\"\n",
    "    folder = \"../../datasets/raw/temp/\"\n",
    "    days = sorted(os.listdir(folder))\n",
    "    \n",
    "    for day in days:\n",
    "        data = get_data(folder, day)\n",
    "        temperature_image = construct_temperature(data, dim_x, dim_y, True, mask)\n",
    "    \n",
    "        figure(num=None, figsize=(16, 16))\n",
    "        plt.imshow(temperature_image, cmap='plasma', interpolation='nearest', origin='lower', vmin=0, vmax=50)\n",
    "        plt.title(show_date(day))\n",
    "        plt.colorbar()\n",
    "        plt.show()\n",
    "        clear_output(wait=True)\n",
    "    return\n",
    "\n",
    "mask = construct_mask(data, 1250, 1000)\n",
    "\n",
    "def temperature(day, dim_x, dim_y):\n",
    "    folder = \"../../datasets/raw/temp/\"\n",
    "    days = sorted(os.listdir(folder)) \n",
    "    data = get_data(folder, days[day])    \n",
    "    return construct_temperature(data, 1250, 1000, mask)\n",
    "\n",
    "plt.imshow(temperature(70, 1250, 1000), cmap='plasma', interpolation='nearest', origin='lower')\n",
    "plt.colorbar()"
   ]
  },
  {
   "cell_type": "code",
   "execution_count": null,
   "metadata": {},
   "outputs": [],
   "source": [
    "def animate_precipitation(dim_x, dim_y, mask=False):\n",
    "    \"\"\"\n",
    "    \"\"\"\n",
    "    folder = \"../../datasets/raw/rain/\"\n",
    "    days = sorted(os.listdir(folder))\n",
    "    \n",
    "    for day in days:\n",
    "        data = get_data(folder, day)\n",
    "        rain_image = construct_precipitation(data, 1250, 1000, mask)\n",
    "    \n",
    "        figure(num=None, figsize=(16, 16))\n",
    "        plt.imshow(rain_image, cmap='plasma', interpolation='nearest', origin='lower')\n",
    "        plt.title(show_date(day))\n",
    "        plt.colorbar()\n",
    "        plt.show()\n",
    "        clear_output(wait=True)\n",
    "    return\n",
    "\n",
    "def precipitation(day, dim_x, dim_y):\n",
    "    folder = \"../../datasets/raw/rain/\"\n",
    "    days = sorted(os.listdir(folder))\n",
    "    \n",
    "    data = get_data(folder, days[day])\n",
    "    return construct_precipitation(data, 1250, 1000, mask)\n",
    "    \n",
    "plt.imshow(precipitation(20, 1250, 1000), cmap='plasma', interpolation='nearest', origin='lower')\n",
    "plt.colorbar()"
   ]
  },
  {
   "cell_type": "code",
   "execution_count": null,
   "metadata": {},
   "outputs": [],
   "source": [
    "def animate_fire(dataframe, dim_in_x, dim_in_y, dim_out_x, dim_out_y):\n",
    "    \"\"\"\n",
    "    \"\"\"\n",
    "    dim_in_x, dim_in_y\n",
    "    \n",
    "    for day in range(92):\n",
    "        timeframe_firemap = select_timeframe(fire, day, day + 1)\n",
    "        normalized_firemap = normalize_coordinates(timeframe_firemap, 625, 500)\n",
    "        heatmap = construct_heatmap(normalized_firemap, 625, 500, 1250, 1000, scale_on=True)\n",
    "        scaled_heatmap = scale_firemap(heatmap, 1250, 1000, construct_mask(data, 1250, 1000))\n",
    "\n",
    "        figure(figsize=(16, 16))\n",
    "        plt.imshow(scaled_heatmap, cmap='plasma', interpolation='nearest', origin='lower')\n",
    "        plt.show()\n",
    "        clear_output(wait=True)\n",
    "    return\n",
    "\n",
    "animate_fire(1250, 1000, 1250, 1000, mask)"
   ]
  },
  {
   "cell_type": "code",
   "execution_count": null,
   "metadata": {},
   "outputs": [],
   "source": [
    "timeframe_firemap = select_timeframe(fire, 80, 81)\n",
    "normalized_firemap = normalize_coordinates(timeframe_firemap, 625, 500)\n",
    "heatmap = construct_heatmap(normalized_firemap, 625, 500, 1250, 1000, scale_on=True)\n",
    "scaled_heatmap = scale_firemap(heatmap, 1250, 1000, construct_mask(data, 1250, 1000))\n",
    "\n",
    "figure(figsize=(16, 16))\n",
    "plt.imshow(scaled_heatmap, cmap='plasma', interpolation='nearest', origin='lower')\n",
    "plt.show()\n",
    "clear_output(wait=True)\n"
   ]
  },
  {
   "cell_type": "code",
   "execution_count": null,
   "metadata": {},
   "outputs": [],
   "source": []
  }
 ],
 "metadata": {
  "kernelspec": {
   "display_name": "Python 3",
   "language": "python",
   "name": "python3"
  },
  "language_info": {
   "codemirror_mode": {
    "name": "ipython",
    "version": 3
   },
   "file_extension": ".py",
   "mimetype": "text/x-python",
   "name": "python",
   "nbconvert_exporter": "python",
   "pygments_lexer": "ipython3",
   "version": "3.6.8"
  }
 },
 "nbformat": 4,
 "nbformat_minor": 2
}
