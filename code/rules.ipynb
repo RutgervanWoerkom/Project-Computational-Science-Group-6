{
 "cells": [
  {
   "cell_type": "code",
   "execution_count": 2,
   "metadata": {},
   "outputs": [],
   "source": [
    "import numpy as np\n",
    "import random\n",
    "from IPython.display import clear_output\n",
    "import sys\n",
    "np.set_printoptions(threshold=sys.maxsize)"
   ]
  },
  {
   "cell_type": "code",
   "execution_count": 3,
   "metadata": {},
   "outputs": [],
   "source": [
    "def random_landscape(height, width, vegetation_ratio):\n",
    "    landscape = np.zeros((height, width))\n",
    "    vegs = [[random.randint(0, height), random.randint(0, width)]]\n",
    "    \n",
    "    dirs = [0,0,0,0]\n",
    "    for i in range(2):\n",
    "        dirs[i] = random.randint(0, 1)\n",
    "    random.shuffle(dirs)\n",
    "    \n",
    "    directions = {'up': dirs[0],\n",
    "                'down': dirs[1],\n",
    "                'right': dirs[2],\n",
    "                'left': dirs[3]}\n",
    "    \n",
    "    \n",
    "    while len(vegs) < vegetation_ratio * np.size(landscape):\n",
    "        for veg in vegs:\n",
    "\n",
    "\n",
    "            up = ((veg[0] + 1) % height, 'up')\n",
    "            down = ((veg[0] - 1) % height, 'down')\n",
    "            right = ((veg[1] + 1) % width, 'right')\n",
    "            left = ((veg[1] - 1) % width, 'left')\n",
    "\n",
    "            moves = [up, down, right, left]\n",
    "\n",
    "            for move1 in moves:\n",
    "                for move2 in moves:\n",
    "                    if landscape[move1[0], move2[0]] != 1:\n",
    "                        landscape[move1[0], move2[0]] = abs(directions[move1[1]] - directions[move2[1]])\n",
    "                        \n",
    "        print(landscape)\n",
    "        clear_output(wait=True)\n",
    "    \n",
    "    return landscape"
   ]
  },
  {
   "cell_type": "code",
   "execution_count": 11,
   "metadata": {},
   "outputs": [
    {
     "data": {
      "text/plain": [
       "array([[1.25, 1.  , 0.75],\n",
       "       [1.5 , 1.  , 0.5 ],\n",
       "       [1.25, 1.  , 0.75]])"
      ]
     },
     "execution_count": 11,
     "metadata": {},
     "output_type": "execute_result"
    }
   ],
   "source": [
    "def wind_matrix(degrees, multiplier=1):\n",
    "    \n",
    "    if multiplier < 0 or multiplier > 2:\n",
    "        raise Exception('Please select a multiplier between 0 and 2 (inclusive).')\n",
    "\n",
    "    degrees = degrees % 360\n",
    "    \n",
    "    north_diff = min(abs(360 - degrees), abs(360 - (degrees + 360))) / 180\n",
    "    south_diff = min(abs(180 - degrees), abs(180 - (degrees + 360))) / 180\n",
    "    west_diff = min(abs(270 - degrees), abs(270 - (degrees + 360))) / 180\n",
    "    east_diff = min(abs(90 - degrees), abs(90 - (degrees + 360))) / 180\n",
    "    \n",
    "    wind_matrix = np.zeros((3,3))\n",
    "    wind_matrix[1, 1] = 1\n",
    "    \n",
    "    wind_matrix[0, 1] = 1 + (north_diff - .5) * multiplier\n",
    "    wind_matrix[2, 1] = 1 + (south_diff - .5) * multiplier\n",
    "    wind_matrix[1, 0] = 1 + (west_diff - .5) * multiplier\n",
    "    wind_matrix[1, 2] = 1 + (east_diff - .5) * multiplier\n",
    "    \n",
    "    wind_matrix[0, 0] = np.mean([wind_matrix[0, 1], wind_matrix[1, 0]])\n",
    "    wind_matrix[0, 2] = np.mean([wind_matrix[0, 1], wind_matrix[1, 2]])\n",
    "    wind_matrix[2, 0] = np.mean([wind_matrix[1, 0], wind_matrix[2, 1]])\n",
    "    wind_matrix[2, 2] = np.mean([wind_matrix[2, 1], wind_matrix[1, 2]])\n",
    "    \n",
    "    return wind_matrix\n",
    "\n",
    "wind_matrix(90)"
   ]
  },
  {
   "cell_type": "code",
   "execution_count": 14,
   "metadata": {},
   "outputs": [
    {
     "name": "stdout",
     "output_type": "stream",
     "text": [
      "[1, 2]\n"
     ]
    }
   ],
   "source": [
    "print(sorted([2,1]))"
   ]
  }
 ],
 "metadata": {
  "kernelspec": {
   "display_name": "Python 3",
   "language": "python",
   "name": "python3"
  },
  "language_info": {
   "codemirror_mode": {
    "name": "ipython",
    "version": 3
   },
   "file_extension": ".py",
   "mimetype": "text/x-python",
   "name": "python",
   "nbconvert_exporter": "python",
   "pygments_lexer": "ipython3",
   "version": "3.7.3"
  }
 },
 "nbformat": 4,
 "nbformat_minor": 2
}
